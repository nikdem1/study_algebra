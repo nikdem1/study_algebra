{
 "cells": [
  {
   "cell_type": "markdown",
   "metadata": {},
   "source": [
    "## Выполнил студент НКАбд-01-22 Демидович Никита Михайлович"
   ]
  },
  {
   "cell_type": "markdown",
   "metadata": {},
   "source": [
    "### Теоретические задания"
   ]
  },
  {
   "cell_type": "markdown",
   "metadata": {},
   "source": [
    "#### Задание №1: Что такое дифференцирование кольца k[x]?"
   ]
  },
  {
   "cell_type": "markdown",
   "metadata": {},
   "source": [
    "Линейное отображение D кольца A в кольцо A называют дифференцированием, если выполняется\n",
    "правило Лейбница:\n",
    "D(ab)=a*D(b)+D(a)*b.\n",
    "Образ элемента a, то есть Da, называют производной a. Элементы кольца A, которые переходят в\n",
    "нуль кольца A, называют константами относительно дифференцирования D."
   ]
  },
  {
   "cell_type": "markdown",
   "metadata": {},
   "source": [
    "#### Задание №2: Может ли простой многочлен с целыми коэффициентами иметь кратные корни?"
   ]
  },
  {
   "cell_type": "markdown",
   "metadata": {},
   "source": [
    "Нет, по следующей теореме: если f, g — простые многочлены кольца Q[x], то они не имеют общих\n",
    "комплексных корней. Доказательство данной теореме заключается в следующем:\n",
    "если f, g — простые многочлены кольца Q[x], то (f, g) = 1.\n",
    "Уравнение 1 = 0 не имеет корней, следовательно, совместных корней не имеют и многочлены f, g.\n",
    "Далее азложим многочлен f ∈ Q[x] на простые множители.\n",
    "f = C*p1^(m1) ... pr^(mr), в силу теоремы среди простых корней повторяющихся сомножителей нет. \n",
    "То есть кратных корней нет, что и требовалось доказать."
   ]
  },
  {
   "cell_type": "markdown",
   "metadata": {},
   "source": [
    "#### Задание №3: Могут ли простые многочлены с целыми коэффициентами иметь общие корни? "
   ]
  },
  {
   "cell_type": "markdown",
   "metadata": {},
   "source": [
    "Нет, по вышеописанной теореме."
   ]
  },
  {
   "cell_type": "markdown",
   "metadata": {},
   "source": [
    "#### Задание №4: Что такое иррациональное число? Что такое алгебраическое число?"
   ]
  },
  {
   "cell_type": "markdown",
   "metadata": {},
   "source": [
    "Иррациональным числом называют число, которое невозможно представить в виде обыкновенной дроби.\n",
    "Алгебраическим называют комплексное число α, если оно является корнем некоторого многочлена из Z[x]."
   ]
  },
  {
   "cell_type": "markdown",
   "metadata": {},
   "source": [
    "#### Задание №5: Дайте определения минимального многочлена алгебраического числа."
   ]
  },
  {
   "cell_type": "markdown",
   "metadata": {},
   "source": [
    "Минимальным многочленом алгебраического числа называется многочлен наименьшей степени из Z[x], корнем которого является алгебраическое число."
   ]
  },
  {
   "cell_type": "markdown",
   "metadata": {},
   "source": [
    "### Практические задания"
   ]
  },
  {
   "cell_type": "markdown",
   "metadata": {},
   "source": [
    "#### Задание №1."
   ]
  },
  {
   "cell_type": "code",
   "execution_count": 10,
   "metadata": {},
   "outputs": [
    {
     "name": "stdout",
     "output_type": "stream",
     "text": [
      "3*(x - 2)^2*x^2 + 2*(x - 2)*x^3\n",
      "6*(x - 2)^2*x + 12*(x - 2)*x^2 + 2*x^3\n"
     ]
    }
   ],
   "source": [
    "print(diff((x^3)*(x-2)^2,x))\n",
    "print(diff((x^3)*(x-2)^2,x,2))"
   ]
  },
  {
   "cell_type": "markdown",
   "metadata": {},
   "source": [
    "#### Задание №2."
   ]
  },
  {
   "cell_type": "code",
   "execution_count": 13,
   "metadata": {},
   "outputs": [
    {
     "data": {
      "text/plain": [
       "x^6 - 6*x^4 + 12*x^2 - 13"
      ]
     },
     "execution_count": 13,
     "metadata": {},
     "output_type": "execute_result"
    }
   ],
   "source": [
    "minpoly((2+5^(1/3))^(1/2))"
   ]
  },
  {
   "cell_type": "markdown",
   "metadata": {},
   "source": [
    "#### Задание №3."
   ]
  },
  {
   "cell_type": "code",
   "execution_count": 14,
   "metadata": {},
   "outputs": [
    {
     "name": "stdout",
     "output_type": "stream",
     "text": [
      "[(5, 1), (2, 1), (1, 2)]\n",
      "[(5, 1), (1/2, 2)]\n"
     ]
    }
   ],
   "source": [
    "print(ZZ[x](x^4-9*x^3+25*x^2-27*x+10).roots(QQ))\n",
    "print(ZZ[x](4*x^5-24*x^4+13*x^3+43*x^2-42*x+10).roots(QQ))"
   ]
  },
  {
   "cell_type": "markdown",
   "metadata": {},
   "source": [
    "#### Задание №4."
   ]
  },
  {
   "cell_type": "code",
   "execution_count": 21,
   "metadata": {},
   "outputs": [
    {
     "name": "stdout",
     "output_type": "stream",
     "text": [
      "[(1/18*sqrt(31)*sqrt(3) - 1/2)^(1/3) - 1/3/(1/18*sqrt(31)*sqrt(3) - 1/2)^(1/3)] [-sqrt(2), 1/2, sqrt(2), 5] [-1, 1/2, 5]\n"
     ]
    }
   ],
   "source": [
    "A = [a.radical_expression() for (a,m) in (ZZ[x](x^3+x+1)).roots(AA)]\n",
    "B = [a.radical_expression() for (a,m) in (ZZ[x](4*x^5-24*x^4+13*x^3+43*x^2-42*x+10)).roots(AA)]\n",
    "C = [a.radical_expression() for (a,m) in (ZZ[x](4*x^6-24*x^5+25*x^4-21*x^3-27*x^2+37*x-10)).roots(AA)]\n",
    "print(A, B, C)"
   ]
  },
  {
   "cell_type": "markdown",
   "metadata": {},
   "source": [
    "#### Задание №5."
   ]
  },
  {
   "cell_type": "code",
   "execution_count": 22,
   "metadata": {},
   "outputs": [
    {
     "data": {
      "text/plain": [
       "[(-1/2*(1/18*sqrt(31)*sqrt(3) - 1/2)^(1/3)*(I*sqrt(3) + 1) + 1/6*(-I*sqrt(3) + 1)/(1/18*sqrt(31)*sqrt(3) - 1/2)^(1/3),\n",
       "  1),\n",
       " (-1/2*(1/18*sqrt(31)*sqrt(3) - 1/2)^(1/3)*(-I*sqrt(3) + 1) + 1/6*(I*sqrt(3) + 1)/(1/18*sqrt(31)*sqrt(3) - 1/2)^(1/3),\n",
       "  1),\n",
       " ((1/18*sqrt(31)*sqrt(3) - 1/2)^(1/3) - 1/3/(1/18*sqrt(31)*sqrt(3) - 1/2)^(1/3),\n",
       "  1)]"
      ]
     },
     "execution_count": 22,
     "metadata": {},
     "output_type": "execute_result"
    }
   ],
   "source": [
    "(x^3+x+1).roots()"
   ]
  },
  {
   "cell_type": "code",
   "execution_count": 23,
   "metadata": {},
   "outputs": [
    {
     "data": {
      "text/plain": [
       "[(-sqrt(2), 1), (sqrt(2), 1), (5, 1), (1/2, 2)]"
      ]
     },
     "execution_count": 23,
     "metadata": {},
     "output_type": "execute_result"
    }
   ],
   "source": [
    "(4*x^5-24*x^4+13*x^3+43*x^2-42*x+10).roots()"
   ]
  },
  {
   "cell_type": "code",
   "execution_count": 24,
   "metadata": {},
   "outputs": [
    {
     "data": {
      "text/plain": [
       "[(5, 1),\n",
       " (-1, 1),\n",
       " (-1/2*I*sqrt(7) + 1/2, 1),\n",
       " (1/2*I*sqrt(7) + 1/2, 1),\n",
       " (1/2, 2)]"
      ]
     },
     "execution_count": 24,
     "metadata": {},
     "output_type": "execute_result"
    }
   ],
   "source": [
    "(4*x^6-24*x^5+25*x^4-21*x^3-27*x^2+37*x-10).roots()"
   ]
  },
  {
   "cell_type": "markdown",
   "metadata": {},
   "source": [
    "#### Задание №6."
   ]
  },
  {
   "cell_type": "code",
   "execution_count": 25,
   "metadata": {},
   "outputs": [
    {
     "data": {
      "text/plain": [
       "[-2.253749245862282?, 1.574213798563527?]"
      ]
     },
     "execution_count": 25,
     "metadata": {},
     "output_type": "execute_result"
    }
   ],
   "source": [
    "y = (x^2-1)*(x+3)*(x-2)\n",
    "p1 = [a for (a,m) in ZZ[x](diff(y,x)).roots(AA)]\n",
    "p2 = [a for a in p1 if diff(y,x,2).subs(x=a)>0]\n",
    "p2"
   ]
  },
  {
   "cell_type": "markdown",
   "metadata": {},
   "source": [
    "#### Задание №7."
   ]
  },
  {
   "cell_type": "code",
   "execution_count": 27,
   "metadata": {},
   "outputs": [
    {
     "data": {
      "text/plain": [
       "[-1]"
      ]
     },
     "execution_count": 27,
     "metadata": {},
     "output_type": "execute_result"
    }
   ],
   "source": [
    "y = (x^3-2)/(x^2+1)\n",
    "b = []\n",
    "for (a,n) in (diff(y,x)).roots():\n",
    "    a = str(a)\n",
    "    if not 'I' in a:\n",
    "        b.append(int(a))\n",
    "p2 = [a for a in b if diff(y,x,2).subs(x=a)<0]\n",
    "p2"
   ]
  },
  {
   "cell_type": "markdown",
   "metadata": {},
   "source": [
    "#### Задание №8."
   ]
  },
  {
   "cell_type": "code",
   "execution_count": 29,
   "metadata": {},
   "outputs": [
    {
     "name": "stdout",
     "output_type": "stream",
     "text": [
      "-1.195402438290105?\n"
     ]
    }
   ],
   "source": [
    "y = x^6-x^2+x\n",
    "c=b=[]\n",
    "p1 = [a.radical_expression() for (a,m) in ZZ[x](diff(y,x)).roots(AA)]\n",
    "p1.append(1)\n",
    "p1.append(-1)\n",
    "for i in p1:\n",
    "    if i <= 1 and i >= -1:\n",
    "        b.append(i)\n",
    "        \n",
    "for i in range(len(b)):\n",
    "    c.append(AA((y.subs(x=b[i]))).radical_expression())\n",
    "print(min(c))"
   ]
  }
 ],
 "metadata": {
  "kernelspec": {
   "display_name": "SageMath 9.3",
   "language": "sage",
   "name": "sagemath"
  },
  "language_info": {
   "codemirror_mode": {
    "name": "ipython",
    "version": 3
   },
   "file_extension": ".py",
   "mimetype": "text/x-python",
   "name": "python",
   "nbconvert_exporter": "python",
   "pygments_lexer": "ipython3",
   "version": "3.7.10"
  }
 },
 "nbformat": 4,
 "nbformat_minor": 4
}
