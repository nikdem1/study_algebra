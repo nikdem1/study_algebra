{
 "cells": [
  {
   "cell_type": "markdown",
   "metadata": {},
   "source": [
    "## Выполнил студент НКАбд-01-22 Демидович Никита Михайлович"
   ]
  },
  {
   "cell_type": "markdown",
   "metadata": {},
   "source": [
    "### Теоретические задания"
   ]
  },
  {
   "cell_type": "markdown",
   "metadata": {},
   "source": [
    "#### Задание №1. Сформулируйте лемму Гаусса для Q[x] и для Q[x1, . . . , xn]."
   ]
  },
  {
   "cell_type": "markdown",
   "metadata": {},
   "source": [
    "Пусть f, g ∈ Q[x1, . . . , xn] и простой многочлен p ∈ Q[x1, . . . , xn−1] делит все коэффициенты произведения f*g, то все\n",
    "коэффициенты f или g делятся на p."
   ]
  },
  {
   "cell_type": "markdown",
   "metadata": {},
   "source": [
    "#### Задание №2. Сформулируйте критерий Эйзенштейна для многочленов одной и двух переменных."
   ]
  },
  {
   "cell_type": "markdown",
   "metadata": {},
   "source": [
    "1) Если $a_nx^n + . . . + a_0 ∈ Z[x]$\n",
    "\n",
    "и an не делится на p, an−1, . . . , a0 делятся на p, и a0 не делится на p^2, то многочлен простой.\n",
    "\n",
    "2) Если $a_ny^n + . . . + a_0 ∈ k[x, y]$\n",
    "и an обращается в нуль в точке x = p ∈ k, an−1, . . . , a0 обращаются в нуль\n",
    "в точке x = p, причем a0 - с кратностью 1, то многочлен простой."
   ]
  },
  {
   "cell_type": "markdown",
   "metadata": {},
   "source": [
    "#### Задание №3. Сформулируйте теорему об определителе произведения матриц. Почему определитель обратимой матрицы не может быть равен нулю?"
   ]
  },
  {
   "cell_type": "markdown",
   "metadata": {},
   "source": [
    "Пусть A и B — квадратные матрицы одного и того же порядка. Тогда\n",
    "\n",
    "det(A*B) = det(A)*det(B)\n",
    "\n",
    "т.е. определитель произведения матриц равен произведению их определителей.\n",
    "\n",
    "\n",
    "Из A*A^(-1) = E следует, что\n",
    "\n",
    "detA*detA^(−1) = 1.\n",
    "\n",
    "Поэтому обратимая матрица не может иметь нулевой определитель."
   ]
  },
  {
   "cell_type": "markdown",
   "metadata": {},
   "source": [
    "#### Задание №4. Что такое резольвента матрица? Собственные значения? Собственные векторы?"
   ]
  },
  {
   "cell_type": "markdown",
   "metadata": {},
   "source": [
    "__Резольвента__: Выражение R = (A − λ*E)^−1, где\n",
    "\n",
    "A - квадратная матрица n × n над полем k\n",
    "λ - символьная переменная\n",
    "\n",
    "Элементами этой матрицы будут рациональные функции λ, общим знаменателем которых будет det(A − λE). Корни уравнения\n",
    "\n",
    "det(A − λE) = 0 - __собственные значения__ (eigenvalue) матрицы A в поле k.\n",
    "\n",
    "\n",
    "Значение параметра λ, при котором существует такой ненулевой столбец b, что\n",
    "\n",
    "Ab = λb\n",
    "\n",
    "называют собственным значением матрицы A. \n",
    "При этом сам столбец называют __собственным вектором__ (eigenvector) матрицы A."
   ]
  },
  {
   "cell_type": "markdown",
   "metadata": {},
   "source": [
    "#### Задание №5. Является ли необратимая матрица делителем нуля? Чему равен ее определитель?"
   ]
  },
  {
   "cell_type": "markdown",
   "metadata": {},
   "source": [
    "Если определитель матрицы равен нулю, то она является делителем нуля и она необратима."
   ]
  },
  {
   "cell_type": "markdown",
   "metadata": {},
   "source": [
    "# Практические задания"
   ]
  },
  {
   "cell_type": "markdown",
   "metadata": {},
   "source": [
    "#### Задание №1."
   ]
  },
  {
   "cell_type": "code",
   "execution_count": 1,
   "metadata": {},
   "outputs": [
    {
     "data": {
      "text/plain": [
       "(-1) * (2*x^2 - y^2)"
      ]
     },
     "execution_count": 1,
     "metadata": {},
     "output_type": "execute_result"
    }
   ],
   "source": [
    "# Gauss, ver. 1.5\n",
    "def triangulation(S):\n",
    "    T=[]\n",
    "    n=0\n",
    "    while S!=[]:\n",
    "        m=max([s.lm() for s in S])\n",
    "        L = [s for s in S if s.lm() == m]\n",
    "        S = [s for s in S if s.lm() < m]\n",
    "        g1=L[0]\n",
    "        T.append(g1)\n",
    "        for g in L[1:]:\n",
    "            g=g1.lc()*g-g.lc()*g1\n",
    "            if g.degree()==0:\n",
    "                T.append(g)\n",
    "                break  \n",
    "            elif g.degree()==1:\n",
    "                S.append(g)\n",
    "    return T\n",
    "    \n",
    "def tsolve(T):\n",
    "    T.reverse()\n",
    "    D={}\n",
    "    while T!=[]:\n",
    "        g=T[0]\n",
    "        D[g.lm()] = -(g-g.lt())/g.lc()\n",
    "        T=[t.subs(D) for t in T[1:]]\n",
    "    return D\n",
    "\n",
    "var ('x,y')\n",
    "QQ[x,y](y^2-2*x^2).factor()"
   ]
  },
  {
   "cell_type": "code",
   "execution_count": 2,
   "metadata": {},
   "outputs": [
    {
     "ename": "NotImplementedError",
     "evalue": "Provably correct factorization not implemented. Disable this error by wrapping your code in a `with proof.WithProof('polynomial', False):` block.",
     "output_type": "error",
     "traceback": [
      "\u001b[0;31m---------------------------------------------------------------------------\u001b[0m",
      "\u001b[0;31mNotImplementedError\u001b[0m                       Traceback (most recent call last)",
      "\u001b[0;32m<ipython-input-2-c1ae7260bb5a>\u001b[0m in \u001b[0;36m<module>\u001b[0;34m\u001b[0m\n\u001b[1;32m      1\u001b[0m \u001b[0mvar\u001b[0m \u001b[0;34m(\u001b[0m\u001b[0;34m'x,y'\u001b[0m\u001b[0;34m)\u001b[0m\u001b[0;34m\u001b[0m\u001b[0;34m\u001b[0m\u001b[0m\n\u001b[0;32m----> 2\u001b[0;31m \u001b[0mCC\u001b[0m\u001b[0;34m[\u001b[0m\u001b[0mx\u001b[0m\u001b[0;34m,\u001b[0m\u001b[0my\u001b[0m\u001b[0;34m]\u001b[0m\u001b[0;34m(\u001b[0m\u001b[0my\u001b[0m\u001b[0;34m**\u001b[0m\u001b[0mInteger\u001b[0m\u001b[0;34m(\u001b[0m\u001b[0;36m2\u001b[0m\u001b[0;34m)\u001b[0m\u001b[0;34m-\u001b[0m\u001b[0mInteger\u001b[0m\u001b[0;34m(\u001b[0m\u001b[0;36m2\u001b[0m\u001b[0;34m)\u001b[0m\u001b[0;34m*\u001b[0m\u001b[0mx\u001b[0m\u001b[0;34m**\u001b[0m\u001b[0mInteger\u001b[0m\u001b[0;34m(\u001b[0m\u001b[0;36m2\u001b[0m\u001b[0;34m)\u001b[0m\u001b[0;34m)\u001b[0m\u001b[0;34m.\u001b[0m\u001b[0mfactor\u001b[0m\u001b[0;34m(\u001b[0m\u001b[0;34m)\u001b[0m\u001b[0;34m\u001b[0m\u001b[0;34m\u001b[0m\u001b[0m\n\u001b[0m",
      "\u001b[0;32m/opt/sagemath-9.3/local/lib/python3.7/site-packages/sage/rings/polynomial/multi_polynomial_element.py\u001b[0m in \u001b[0;36mfactor\u001b[0;34m(self, proof)\u001b[0m\n\u001b[1;32m   1891\u001b[0m             \u001b[0mproof\u001b[0m \u001b[0;34m=\u001b[0m \u001b[0mget_flag\u001b[0m\u001b[0;34m(\u001b[0m\u001b[0msubsystem\u001b[0m\u001b[0;34m=\u001b[0m\u001b[0;34m\"polynomial\"\u001b[0m\u001b[0;34m)\u001b[0m\u001b[0;34m\u001b[0m\u001b[0;34m\u001b[0m\u001b[0m\n\u001b[1;32m   1892\u001b[0m         \u001b[0;32mif\u001b[0m \u001b[0mproof\u001b[0m\u001b[0;34m:\u001b[0m\u001b[0;34m\u001b[0m\u001b[0;34m\u001b[0m\u001b[0m\n\u001b[0;32m-> 1893\u001b[0;31m             \u001b[0;32mraise\u001b[0m \u001b[0mNotImplementedError\u001b[0m\u001b[0;34m(\u001b[0m\u001b[0;34m\"Provably correct factorization not implemented. Disable this error by wrapping your code in a `with proof.WithProof('polynomial', False):` block.\"\u001b[0m\u001b[0;34m)\u001b[0m\u001b[0;34m\u001b[0m\u001b[0;34m\u001b[0m\u001b[0m\n\u001b[0m\u001b[1;32m   1894\u001b[0m \u001b[0;34m\u001b[0m\u001b[0m\n\u001b[1;32m   1895\u001b[0m         \u001b[0mR\u001b[0m\u001b[0;34m.\u001b[0m\u001b[0m_singular_\u001b[0m\u001b[0;34m(\u001b[0m\u001b[0;34m)\u001b[0m\u001b[0;34m.\u001b[0m\u001b[0mset_ring\u001b[0m\u001b[0;34m(\u001b[0m\u001b[0;34m)\u001b[0m\u001b[0;34m\u001b[0m\u001b[0;34m\u001b[0m\u001b[0m\n",
      "\u001b[0;31mNotImplementedError\u001b[0m: Provably correct factorization not implemented. Disable this error by wrapping your code in a `with proof.WithProof('polynomial', False):` block."
     ]
    }
   ],
   "source": [
    "var ('x,y')\n",
    "CC[x,y](y^2-2*x^2).factor()"
   ]
  },
  {
   "cell_type": "code",
   "execution_count": 3,
   "metadata": {},
   "outputs": [
    {
     "data": {
      "text/plain": [
       "(-2) * (x + (-0.7071067811865475?)*y) * (x + 0.7071067811865475?*y)"
      ]
     },
     "execution_count": 3,
     "metadata": {},
     "output_type": "execute_result"
    }
   ],
   "source": [
    "var ('x,y')\n",
    "QQbar[x,y](y^2-2*x^2).factor()"
   ]
  },
  {
   "cell_type": "markdown",
   "metadata": {},
   "source": [
    "Вывод: разложение не получилось в поле СС[x,y], так как в поле комплексных чисел система не работает с разложением на множители. Разложение над полем C заблокировано, выдается ошибка: Provably correct factorization not implemented."
   ]
  },
  {
   "cell_type": "markdown",
   "metadata": {},
   "source": [
    "#### Задание №3."
   ]
  },
  {
   "cell_type": "code",
   "execution_count": 9,
   "metadata": {},
   "outputs": [
    {
     "data": {
      "text/plain": [
       "x^3 + y^2 + 2*x + 3"
      ]
     },
     "execution_count": 9,
     "metadata": {},
     "output_type": "execute_result"
    }
   ],
   "source": [
    "var ('x,y')\n",
    "AA[x,y](y^2 + x^3 + 2*x + 3).factor()"
   ]
  },
  {
   "attachments": {
    "image.png": {
     "image/png": "[encoded data removed]"
    }
   },
   "cell_type": "markdown",
   "metadata": {},
   "source": [
    "3) При каких комплексных значениях параметра t система\n",
    "\n",
    "![image.png](attachment:image.png)\n",
    "\n",
    "имеет нетривиальное решение? Для каждого из этих значений опишите пространство решений (размерность, базис)\n"
   ]
  },
  {
   "cell_type": "code",
   "execution_count": 14,
   "metadata": {},
   "outputs": [
    {
     "data": {
      "text/plain": [
       "[(0.4712082953494914?, 1),\n",
       " (-0.2356041476747457? - 4.600709504326983?*I, 1),\n",
       " (-0.2356041476747457? + 4.600709504326983?*I, 1)]"
      ]
     },
     "execution_count": 14,
     "metadata": {},
     "output_type": "execute_result"
    }
   ],
   "source": [
    "var (\"t\")\n",
    "ZZ[t](matrix([[t,1,5] ,[1,t,3] ,[-5,1,t]]).det()).roots(QQbar)"
   ]
  },
  {
   "cell_type": "code",
   "execution_count": 48,
   "metadata": {},
   "outputs": [
    {
     "data": {
      "text/plain": [
       "[0.471208295349491*x1 + x2 + 5.00000000000000*x3,\n",
       " (-0.777962742393826)*x2 + (-3.58637511395153)*x3]"
      ]
     },
     "execution_count": 48,
     "metadata": {},
     "output_type": "execute_result"
    }
   ],
   "source": [
    "x = var (\"x1,x2,x3\")\n",
    "Kt = FractionField (CC[t])[x]\n",
    "eqs =[t*x1 + x2 + 5*x3, x1 + t*x2 + 3*x3, -5*x1 + x2 + t*x3]\n",
    "triangulation([Kt(eq.subs(t = 0.4712082953494914)) for eq in eqs ])"
   ]
  },
  {
   "cell_type": "markdown",
   "metadata": {},
   "source": [
    "Размерность = 1\n",
    "базис = 1"
   ]
  },
  {
   "cell_type": "code",
   "execution_count": 39,
   "metadata": {},
   "outputs": [
    {
     "data": {
      "text/plain": [
       "[(-0.235604147674746 - 4.60070950432698*I)*x1 + x2 + 5.00000000000000*x3,\n",
       " (-22.1110186288031 + 2.16789248293212*I)*x2 + (-5.70681244302424 - 13.8021285129809*I)*x3,\n",
       " (8.52651282912120e-14 - 7.10542735760100e-15*I)*x3]"
      ]
     },
     "execution_count": 39,
     "metadata": {},
     "output_type": "execute_result"
    }
   ],
   "source": [
    "x = var (\"x1,x2,x3\")\n",
    "Kt = FractionField (CC[t])[x]\n",
    "eqs =[t*x1 + x2 + 5*x3, x1 + t*x2 + 3*x3, -5*x1 + x2 + t*x3]\n",
    "triangulation([Kt(eq.subs(t = -0.2356041476747457 - 4.600709504326983*I)) for eq in eqs ])"
   ]
  },
  {
   "cell_type": "markdown",
   "metadata": {},
   "source": [
    "Размерность = 0\n",
    "базис = 0"
   ]
  },
  {
   "cell_type": "code",
   "execution_count": 40,
   "metadata": {},
   "outputs": [
    {
     "data": {
      "text/plain": [
       "[(-0.235604147674746 + 4.60070950432698*I)*x1 + x2 + 5.00000000000000*x3,\n",
       " (-22.1110186288031 - 2.16789248293212*I)*x2 + (-5.70681244302424 + 13.8021285129809*I)*x3,\n",
       " (8.52651282912120e-14 + 7.10542735760100e-15*I)*x3]"
      ]
     },
     "execution_count": 40,
     "metadata": {},
     "output_type": "execute_result"
    }
   ],
   "source": [
    "x = var (\"x1,x2,x3\")\n",
    "Kt = FractionField (CC[t])[x]\n",
    "eqs =[t*x1 + x2 + 5*x3, x1 + t*x2 + 3*x3, -5*x1 + x2 + t*x3]\n",
    "triangulation([Kt(eq.subs(t = -0.2356041476747457 + 4.600709504326983*I)) for eq in eqs ])"
   ]
  },
  {
   "cell_type": "markdown",
   "metadata": {},
   "source": [
    "Размерность = 0\n",
    "базис = 0"
   ]
  },
  {
   "attachments": {
    "image.png": {
     "image/png": "[encoded data removed]"
    }
   },
   "cell_type": "markdown",
   "metadata": {},
   "source": [
    "#### Задание №4.\n",
    "\n",
    "![image.png](attachment:image.png)\n",
    "\n",
    "в поле вещественных чисел."
   ]
  },
  {
   "cell_type": "code",
   "execution_count": 53,
   "metadata": {},
   "outputs": [
    {
     "name": "stdout",
     "output_type": "stream",
     "text": [
      "[(-4.574087225857106?, [(1, 1.391048983778519?, -2.785395064471381?)], 1), (0.02557437263431835?, [(1, -0.5864323923770230?, 0.0661463857961215?)], 1), (8.548512853222788?, [(1, 1.849928863143959?, 1.282885042311623?)], 1)]\n"
     ]
    }
   ],
   "source": [
    "A = matrix([[1, 2, 3],[2, 4, 5],[3, 5, -1]])\n",
    "print(A.right_eigenvectors())"
   ]
  },
  {
   "cell_type": "markdown",
   "metadata": {},
   "source": [
    "#### Задание №5.\n",
    "\n",
    "(1 2\n",
    "\n",
    "2 4)\n",
    "\n",
    "в поле вещественных чисел. Ответ выразите в радикалах"
   ]
  },
  {
   "cell_type": "code",
   "execution_count": 80,
   "metadata": {},
   "outputs": [
    {
     "name": "stdout",
     "output_type": "stream",
     "text": [
      "[(5, [\n",
      "(1, 2)\n",
      "], 1), (0, [\n",
      "(1, -1/2)\n",
      "], 1)]\n"
     ]
    }
   ],
   "source": [
    "A = matrix([[1, 2],[2, 4]])\n",
    "K = A.right_eigenvectors()\n",
    "print(K)"
   ]
  }
 ],
 "metadata": {
  "kernelspec": {
   "display_name": "SageMath 9.3",
   "language": "sage",
   "name": "sagemath"
  },
  "language_info": {
   "codemirror_mode": {
    "name": "ipython",
    "version": 3
   },
   "file_extension": ".py",
   "mimetype": "text/x-python",
   "name": "python",
   "nbconvert_exporter": "python",
   "pygments_lexer": "ipython3",
   "version": "3.7.10"
  }
 },
 "nbformat": 4,
 "nbformat_minor": 4
}
