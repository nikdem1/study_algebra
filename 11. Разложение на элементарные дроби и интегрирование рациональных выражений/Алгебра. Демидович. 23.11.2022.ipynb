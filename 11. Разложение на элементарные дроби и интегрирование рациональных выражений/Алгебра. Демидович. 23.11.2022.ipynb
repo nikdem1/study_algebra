{
 "cells": [
  {
   "cell_type": "markdown",
   "metadata": {},
   "source": [
    "## Выполнил студент НКАбд-01-22 Демидович Никита Михайлович"
   ]
  },
  {
   "cell_type": "markdown",
   "metadata": {},
   "source": [
    "### Теоретические задания"
   ]
  },
  {
   "cell_type": "markdown",
   "metadata": {},
   "source": [
    "#### Задание №1: Дайте определение простой дроби в Q и в поле частных кольца Q[x]."
   ]
  },
  {
   "cell_type": "markdown",
   "metadata": {},
   "source": [
    "Поле Q:\n",
    "Дробь называется правильной, если ее числитель по модулю меньше знаменателя. Правильная дробь называется простой (partial fraction), если ее знаменатель является степенью простого числа, а числитель меньше этого простого числа.\n",
    "\n",
    "Поле частных Q[x]:\n",
    "Дробь называется правильной, если степень ее числитель меньше степени знаменателя.\n",
    "Правильная дробь называется простой (partial fraction), если ее знаменатель является степенью (power) простого многочлена, а степень числителя меньше степени (degree) этого простого многочлена."
   ]
  },
  {
   "cell_type": "markdown",
   "metadata": {},
   "source": [
    "#### Задание №2: Докажите теорему 2."
   ]
  },
  {
   "cell_type": "markdown",
   "metadata": {},
   "source": [
    "Теорема 2 гласит: всякую дробь из поля частных кольца k[x] можно представить как сумму многочлена и нескольких простых дробей."
   ]
  },
  {
   "cell_type": "markdown",
   "metadata": {},
   "source": [
    "Доказательство: пусть f и g – многочлены из поля частных кольца k[x]:\n",
    "Разложим знаменатель на множители (factor):\n",
    "g = p1^(m1) ... ps^(ms).\n",
    "Рассмотрим следующую разность:\n",
    "f/g - c1/p1^m1 = f1 - c1 × p2^m2 ... ps^ms / p1^m1 ... ps^ms.\n",
    "Подберем c1 так, чтобы\n",
    "f - c1p2^m2 ... ps^ms = 0 mod p1.\n",
    "Произведем замену:\n",
    "f/g - c1/p1^m1 = f1/p^(m1-1) ... ps^ms.\n",
    "Рассмотрев дробь f1/p^(m1-1) ... ps^ms вместо исходной, мы найдем c2, такое, что\n",
    "f1/p^(m1-1) ... ps^ms - c2/p1^(m1-1) = f2/p1^(m1-2) ... ps^ms.\n",
    "Действуя так далее, мы сначала уберем множитель p1, потом p2 и так до полного исчезновения знаменателя. В итоге мы получим, что f/g без простых дробей является целым числом."
   ]
  },
  {
   "cell_type": "markdown",
   "metadata": {},
   "source": [
    "#### Задание №3: Сформулируйте теорему Остроградского. Как она используется для вычисления интегралов?"
   ]
  },
  {
   "cell_type": "markdown",
   "metadata": {},
   "source": [
    "Метод Остроградского — метод интегрирования рациональных функций с кратными неприводимыми множителями в знаменателе. Метод позволяет одними лишь алгебраическими операциями свести задачу интегрирования произвольной рациональной функции к задаче интегрирования рациональной функции без кратных корней в знаменателе.\n",
    "Для функций с целыми коэффициентами Остроградский предложил весьма изящный способ обойти это затруднение, путем «перелета» из поля R в C, а затем возвращения в Q. "
   ]
  },
  {
   "cell_type": "markdown",
   "metadata": {},
   "source": [
    "### Практические задания"
   ]
  },
  {
   "cell_type": "markdown",
   "metadata": {},
   "source": [
    "#### Задание №1."
   ]
  },
  {
   "cell_type": "code",
   "execution_count": 12,
   "metadata": {},
   "outputs": [
    {
     "data": {
      "text/plain": [
       "(-1, [1/8, 1/32, 1/128, 1/256, 1/3, 2/9, 11/17])"
      ]
     },
     "execution_count": 12,
     "metadata": {},
     "output_type": "execute_result"
    }
   ],
   "source": [
    "QQ(14515/39168).partial_fraction_decomposition()"
   ]
  },
  {
   "cell_type": "markdown",
   "metadata": {},
   "source": [
    "#### Задание №2."
   ]
  },
  {
   "cell_type": "code",
   "execution_count": 14,
   "metadata": {},
   "outputs": [
    {
     "name": "stdout",
     "output_type": "stream",
     "text": [
      "В поле QQ:  (x^2 + 9*x + 55, [47967471/171500/(x - 3), 531441/1225/(x^2 - 6*x + 9), 19683/70/(x^3 - 9*x^2 + 27*x - 27), (-240/343*x - 928/1029)/(x^2 - 2), (3/500*x - 13/1500)/(x^2 + 1)])\n"
     ]
    }
   ],
   "source": [
    "print('В поле QQ: ',(QQ[x](x^9)/QQ[x]((x^2-2)*((x-3)^3)*(x^2+1))).partial_fraction_decomposition())"
   ]
  },
  {
   "cell_type": "code",
   "execution_count": 15,
   "metadata": {},
   "outputs": [
    {
     "name": "stdout",
     "output_type": "stream",
     "text": [
      "В поле RR:  (x^2 + 9.00000000000000*x + 55.0000000000000, [279.693708454848/(x - 3.00000000000000), 433.829387755206/(x^2 - 6.00000000000000*x + 9.00000000000000), 281.185714285799/(x^3 - 9.00000000000000*x^2 + 27.0000000000000*x - 27.0000000000000), -0.668705098610849/(x - 1.41421356237310), -0.0310033561996467/(x + 1.41421356237310), (0.00600000000000000*x - 0.00866666666666667)/(x^2 + 1.00000000000000)])\n"
     ]
    }
   ],
   "source": [
    "print('В поле RR: ',(RR[x](x^9)/RR[x]((x^2-2)*((x-3)^3)*(x^2+1))).partial_fraction_decomposition())"
   ]
  },
  {
   "cell_type": "code",
   "execution_count": 16,
   "metadata": {},
   "outputs": [
    {
     "name": "stdout",
     "output_type": "stream",
     "text": [
      "В поле AA:  (x^2 + 9*x + 55, [-0.6687050986108435?/(x - 1.414213562373095?), -0.03100335619965204?/(x + 1.414213562373095?), 279.6937084548105?/(x - 3), 433.829387755102?/(x^2 - 6*x + 9), 281.18571428572?/(x^3 - 9*x^2 + 27*x - 27), (0.006000000000000000?*x - 0.00866666666666667?)/(x^2 + 1)])\n"
     ]
    }
   ],
   "source": [
    "print('В поле AA: ',(AA[x](x^9)/AA[x]((x^2-2)*((x-3)^3)*(x^2+1))).partial_fraction_decomposition())"
   ]
  },
  {
   "cell_type": "code",
   "execution_count": 17,
   "metadata": {},
   "outputs": [
    {
     "name": "stdout",
     "output_type": "stream",
     "text": [
      "В поле CC:  (x^2 + 9.00000000000000*x + 55.0000000000000, [279.693708454848/(x - 3.00000000000000), 433.829387755206/(x^2 - 6.00000000000000*x + 9.00000000000000), 281.185714285799/(x^3 - 9.00000000000000*x^2 + 27.0000000000000*x - 27.0000000000000), (-0.668705098610848)/(x - 1.41421356237310), (0.00300000000000000 + 0.00433333333333333*I)/(x - I), (0.00300000000000000 - 0.00433333333333333*I)/(x + I), (-0.0310033561996467)/(x + 1.41421356237310)])\n"
     ]
    }
   ],
   "source": [
    "print('В поле CC: ',(CC[x](x^9)/CC[x]((x^2-2)*((x-3)^3)*(x^2+1))).partial_fraction_decomposition())"
   ]
  },
  {
   "cell_type": "code",
   "execution_count": 18,
   "metadata": {},
   "outputs": [
    {
     "name": "stdout",
     "output_type": "stream",
     "text": [
      "В поле QQbar:  (x^2 + 9*x + 55, [(-0.6687050986108435?)/(x - 1.414213562373095?), (0.003000000000000000? + 0.004333333333333334?*I)/(x - I), (0.003000000000000000? - 0.004333333333333334?*I)/(x + I), (-0.03100335619965204?)/(x + 1.414213562373095?), 279.6937084548105?/(x - 3), 433.829387755102?/(x^2 - 6*x + 9), 281.18571428572?/(x^3 - 9*x^2 + 27*x - 27)])\n"
     ]
    }
   ],
   "source": [
    "print('В поле QQbar: ',(QQbar[x](x^9)/QQbar[x]((x^2-2)*((x-3)^3)*(x^2+1))).partial_fraction_decomposition())"
   ]
  },
  {
   "cell_type": "markdown",
   "metadata": {},
   "source": [
    "#### Задание №3."
   ]
  },
  {
   "cell_type": "code",
   "execution_count": 8,
   "metadata": {},
   "outputs": [],
   "source": [
    "def triangulation(S):\n",
    "    T=[]\n",
    "    n=0\n",
    "    while S!=[]:\n",
    "        m=max([s.lm() for s in S])\n",
    "        L = [s for s in S if s.lm() == m]\n",
    "        S = [s for s in S if s.lm() < m]\n",
    "        g1=L[0]\n",
    "        T.append(g1)\n",
    "        for g in L[1:]:\n",
    "            g=g1.lc()*g-g.lc()*g1\n",
    "            if g.degree()==0:\n",
    "                T.append(g)\n",
    "                break\n",
    "            elif g.degree()==1:\n",
    "                S.append(g)\n",
    "    return T\n",
    "\n",
    "def tsolve(T):\n",
    "    T.reverse()\n",
    "    D={}\n",
    "    while T!=[]:\n",
    "        g=T[0]\n",
    "        D[g.lm()] = -(g-g.lt())/g.lc()\n",
    "        T=[t.subs(D) for t in T[1:]]\n",
    "    return D\n",
    "\n",
    "def ostrogradski(f,x):\n",
    "    # f -- правильная дробь\n",
    "    # g -- числитель f\n",
    "    g=SR(f).numerator()\n",
    "    # h -- знаменатель f\n",
    "    h=SR(f).denominator()\n",
    "    # Раскладываем знаменатель на множители\n",
    "    L=list(ZZ[x](h).factor())\n",
    "    \n",
    "    # Составляем знаменатель алгебраической части\n",
    "    hh=prod([p^(m-1) for (p,m) in L])\n",
    "    n=hh.degree()\n",
    "    if n==0:\n",
    "        return [0,f]\n",
    "    else:\n",
    "        # Составляем числитель алгебраической части \n",
    "\t# с неопределенными коэффициентами\n",
    "        A=var(['A'+str(i) for i in range(n)])\n",
    "        gg=sum([A[i]*x^i for i in range(n)])\n",
    "    \n",
    "    \t# Составляем знаменатель log части\n",
    "        h3=ZZ[x](prod([p for (p,m) in L]))\n",
    "    \t# Составляем числитель log части \n",
    "    \t# с неопределенными коэффициентами\n",
    "        m=h3.degree()\n",
    "        B=var(['B'+str(i) for i in range(m)])\n",
    "        g3=sum([B[i]*x^i for i in range(m)])\n",
    "\n",
    "    \t# Составляем выражение, которое должно быть равно нулю\n",
    "        F=ZZ[A+B][x]((diff(SR(gg/hh),x)+SR(g3/h3)-f).numerator())\n",
    "    \t# Составляем СЛАУ для определения коэффициентов и решаем ее\n",
    "        S=tsolve(triangulation([QQ[A+B](eq) for eq in F.coefficients()]))\n",
    "    \t# Список: алгебраическая часть, log часть\n",
    "    return [(gg).subs(S)/hh, (g3).subs(S)/h3]\n",
    "\n",
    "def radical(a,r):\n",
    "    if r==True:\n",
    "        return AA(a).radical_expression()\n",
    "    else:\n",
    "        return AA(a)\n",
    "\n",
    "def pfdintegral(f,x,r):\n",
    "    g=SR(f).numerator()\n",
    "    h=SR(f).denominator()\n",
    "    \n",
    "    if AA[x](h).degree()==1:\n",
    "        return radical(g,r)*ln(abs(x+radical(h.subs(x=0),r)))\n",
    "    else:\n",
    "        b0=radical(g.subs(x=0),r)\n",
    "        b1=radical(diff(g,x),r)\n",
    "        a0=radical(h.subs(x=0),r)\n",
    "        a1=radical(diff(h,x).subs(x=0),r)\n",
    "        s=radical(sqrt(-a1^2 + 4*a0),r)\n",
    "        return 1/2*b1*log(a1*x + x^2 + a0) - (a1*b1 - 2*b0)*arctan((a1 + 2*x)/s)/s\n",
    "\n",
    "def rac_integral(f,x, list=False, radical=True):\n",
    "    # Шаг 1. Приведение к правильной дроби\n",
    "    g=SR(f).numerator()\n",
    "    h=SR(f).denominator()\n",
    "    [U,r]=QQ[x](g).quo_rem(QQ[x](h))\n",
    "    # Шаг 2. Отыскание алгебраической части\n",
    "    [A,L]=ostrogradski(SR(r/h),x)\n",
    "    # Шаг 3. Интегрирование log части\n",
    "    pfd=FractionField(AA[x])(L).partial_fraction_decomposition()[1]\n",
    "    # Сборка ответа: интеграл многочлена + алгебраическая часть + интеграл от логарифмической части\n",
    "    ans= [integral(U,x), A]+[pfdintegral(i,x,radical) for i in pfd]\n",
    "    if list==True:\n",
    "        return ans       \n",
    "    else: \n",
    "        return sum(ans)"
   ]
  },
  {
   "cell_type": "code",
   "execution_count": 9,
   "metadata": {},
   "outputs": [
    {
     "data": {
      "text/plain": [
       "[0, -1/2/(x^6 + 2*x^4 + 2*x^3 + x^2 + 2*x + 1)]"
      ]
     },
     "execution_count": 9,
     "metadata": {},
     "output_type": "execute_result"
    }
   ],
   "source": [
    "f = ((3*x^2+1)/(x^3+x+1)^3)\n",
    "rac_integral(f,x,list=True)"
   ]
  },
  {
   "cell_type": "code",
   "execution_count": 10,
   "metadata": {},
   "outputs": [
    {
     "data": {
      "text/plain": [
       "[0,\n",
       " 0,\n",
       " -1/3*log(abs(x + 1)),\n",
       " 1/3*sqrt(3)*arctan(1/3*sqrt(3)*(2*x - 1)) + 1/6*log(x^2 - x + 1)]"
      ]
     },
     "execution_count": 10,
     "metadata": {},
     "output_type": "execute_result"
    }
   ],
   "source": [
    "f = (x/(x^3+1))\n",
    "rac_integral(f,x,list=True)"
   ]
  },
  {
   "cell_type": "code",
   "execution_count": 11,
   "metadata": {},
   "outputs": [
    {
     "data": {
      "text/plain": [
       "[0,\n",
       " 1/972*(140*x^11 + 525*x^8 + 720*x^5 + 416*x^2)/(x^12 + 4*x^9 + 6*x^6 + 4*x^3 + 1),\n",
       " -35/729*log(abs(x + 1)),\n",
       " 35/729*sqrt(3)*arctan(1/3*sqrt(3)*(2*x - 1)) + 35/1458*log(x^2 - x + 1)]"
      ]
     },
     "execution_count": 11,
     "metadata": {},
     "output_type": "execute_result"
    }
   ],
   "source": [
    "f = (x/(x^3+1)^5)\n",
    "rac_integral(f,x,list=True)"
   ]
  },
  {
   "cell_type": "code",
   "execution_count": 12,
   "metadata": {},
   "outputs": [
    {
     "data": {
      "text/plain": [
       "[1/2*x^2,\n",
       " 0,\n",
       " 1/3*log(abs(x + 1)),\n",
       " -1/3*sqrt(3)*arctan(1/3*sqrt(3)*(2*x - 1)) - 1/6*log(x^2 - x + 1)]"
      ]
     },
     "execution_count": 12,
     "metadata": {},
     "output_type": "execute_result"
    }
   ],
   "source": [
    "f = (x^4/(x^3+1))\n",
    "rac_integral(f,x,list=True)"
   ]
  },
  {
   "cell_type": "code",
   "execution_count": 16,
   "metadata": {},
   "outputs": [
    {
     "data": {
      "text/plain": [
       "[0,\n",
       " -1/1922*(522*x^7 + 2286*x^6 + 1392*x^5 + 5187*x^4 + 4806*x^3 + 3311*x^2 + 3936*x + 1371)/(x^8 + 3*x^6 + 2*x^5 + 3*x^4 + 4*x^3 + 2*x^2 + 2*x + 1),\n",
       " 1/961*((12/961)^(1/3)*(4210323343*sqrt(31)*sqrt(3) - 4475710467)^(1/3) - 50712559*(12/961)^(2/3)/(4210323343*sqrt(31)*sqrt(3) - 4475710467)^(1/3))*log(abs(x + (1/18*sqrt(31)*sqrt(3) + 1/2)^(1/3) - 1/3/(1/18*sqrt(31)*sqrt(3) + 1/2)^(1/3))),\n",
       " 1/1922*((12/961)^(1/3)*(4210323343*sqrt(31)*sqrt(3) + 4475710467)^(1/3) - 50712559*(12/961)^(2/3)/(4210323343*sqrt(31)*sqrt(3) + 4475710467)^(1/3))*log(x^2 + 1/3*x*(3*(1/18*sqrt(31)*sqrt(3) - 1/2)^(1/3) - 1/(1/18*sqrt(31)*sqrt(3) - 1/2)^(1/3)) + 1/3*(1/2)^(1/3)*(3*sqrt(31)*sqrt(3) + 29)^(1/3) + 2/3*(1/2)^(2/3)/(3*sqrt(31)*sqrt(3) + 29)^(1/3) + 1/3) - 1/2883*(((12/961)^(1/3)*(4210323343*sqrt(31)*sqrt(3) + 4475710467)^(1/3) - 50712559*(12/961)^(2/3)/(4210323343*sqrt(31)*sqrt(3) + 4475710467)^(1/3))*(3*(1/18*sqrt(31)*sqrt(3) - 1/2)^(1/3) - 1/(1/18*sqrt(31)*sqrt(3) - 1/2)^(1/3)) + 6*(4/961)^(1/3)*(7061436759*sqrt(31)*sqrt(3) - 71973577517)^(1/3)*(-I*sqrt(3) + 1) + 304275354*(4/961)^(2/3)*(I*sqrt(3) + 1)/(7061436759*sqrt(31)*sqrt(3) - 71973577517)^(1/3) + 6288)*(3/2*sqrt(93) + 29/2)^(1/6)*arctan(1/3*(6*x + 3*(1/18*sqrt(31)*sqrt(3) - 1/2)^(1/3) - 1/(1/18*sqrt(31)*sqrt(3) - 1/2)^(1/3))*(3/2*sqrt(93) + 29/2)^(1/6)/((3/2*sqrt(93) + 29/2)^(1/3) + 1))/((3/2*sqrt(93) + 29/2)^(1/3) + 1),\n",
       " 3*arctan(x)]"
      ]
     },
     "execution_count": 16,
     "metadata": {},
     "output_type": "execute_result"
    }
   ],
   "source": [
    "f = (x/(((x^3+x+1)^3)*(x^2+1)^2))\n",
    "rac_integral(f,x,list=True)"
   ]
  }
 ],
 "metadata": {
  "kernelspec": {
   "display_name": "SageMath 9.3",
   "language": "sage",
   "name": "sagemath"
  },
  "language_info": {
   "codemirror_mode": {
    "name": "ipython",
    "version": 3
   },
   "file_extension": ".py",
   "mimetype": "text/x-python",
   "name": "python",
   "nbconvert_exporter": "python",
   "pygments_lexer": "ipython3",
   "version": "3.7.10"
  }
 },
 "nbformat": 4,
 "nbformat_minor": 4
}
