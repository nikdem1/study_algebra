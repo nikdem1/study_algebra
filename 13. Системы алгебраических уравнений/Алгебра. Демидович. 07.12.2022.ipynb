{
 "cells": [
  {
   "cell_type": "markdown",
   "metadata": {},
   "source": [
    "# Теоретические вопросы"
   ]
  },
  {
   "cell_type": "markdown",
   "metadata": {},
   "source": [
    "### 1) Дайте определение алгебраического многообразия.\n",
    "\n",
    "Точка (a1, . . . , an) ∈ $K^n$ называется решением системы\n",
    "\n",
    "<center>$f1 = 0, . . . , fm = 0$,</center>\n",
    "если\n",
    "\n",
    "<center>$f1(a1, . . . , an) = 0, . . . , fm(a1, . . . , an) = 0.$</center>\n",
    "\n",
    "Множество всех решений системы S из $K^n$ будем называть алгебраическим\n",
    "многообразием (variety) и обозначать как \n",
    "\n",
    "<center>Sol(S, K)</center>"
   ]
  },
  {
   "cell_type": "markdown",
   "metadata": {},
   "source": [
    "### 2) Дайте определение радикала из идеала.\n",
    "\n",
    "Радикал $√J$ из идеала J кольца A - это множество всех элементов кольца A, для каждого их которых, скажем, для f, можно найти\n",
    "такое натуральное число r, что\n",
    "<center>$f^r ∈ J$</center>"
   ]
  },
  {
   "cell_type": "markdown",
   "metadata": {},
   "source": [
    "### 3) Дайте определение базиса Гребнера.\n",
    "\n",
    "Конечное множество многочленов $g1, . . . , gp$ идеала J\n",
    "кольца $k[x1, . . . , xn],$ называется базисом Гребнера этого идеала, если\n",
    "<center>1) $J = (g1, . . . , gp)$,</center>\n",
    "    \n",
    "<center>2) $lm(g1) > lm(g2) > · · · > lm(gp)$,</center>\n",
    "    \n",
    "<center>3) для любого $f ∈ J$ найдется такое i, что $lm(f)$ делится на $lm(gi)$.</center>"
   ]
  },
  {
   "cell_type": "markdown",
   "metadata": {},
   "source": [
    "### 4) Как найти пересечение J ∩ k[x1], если имеется возможность вычислить базис Гребнера идеала J?\n",
    "\n",
    "Пусть (g1, . . . , gp) - базис Гребнера идеала J кольца k[x1, . . . , xn], на мономах которого используется lex-порядок. Тогда или последний элемент базиса Гребнера принадлежит k[xn] и порождает исклю-\n",
    "чительный идеал\n",
    "\n",
    "<center>J ∩ k[xn],</center>\n",
    "\n",
    "или этот идеал пуст."
   ]
  },
  {
   "cell_type": "markdown",
   "metadata": {},
   "source": [
    "# Практические задания"
   ]
  },
  {
   "cell_type": "markdown",
   "metadata": {},
   "source": [
    "1) Дана система уравнений\n",
    "\n",
    "x^2 + y^2 − z^2 = 0, x − 2*y^2 − 3, z + x − y − 3 = 0\n",
    "\n",
    "Найдите все точки, удовлетворяющие системе уравнений, из a.) Q^3, b.) R^3 и c.) C^3"
   ]
  },
  {
   "cell_type": "code",
   "execution_count": 16,
   "metadata": {},
   "outputs": [
    {
     "name": "stdout",
     "output_type": "stream",
     "text": [
      "[]\n",
      "[{z: -23.9201926101418, y: -3.21736157691563, x: 23.7028310332261}]\n",
      "[{z: -23.92019261014178?, y: -3.217361576915636?, x: 23.70283103322614?}, {z: 1.460096305070887? - 0.4687093696761254?*I, y: 0.1086807884578181? - 0.8291678190127419?*I, x: 1.648584483386932? - 0.3604584493366166?*I}, {z: 1.460096305070887? + 0.4687093696761254?*I, y: 0.1086807884578181? + 0.8291678190127419?*I, x: 1.648584483386932? + 0.3604584493366166?*I}]\n"
     ]
    }
   ],
   "source": [
    "var ( \"x,y,z\" )\n",
    "\n",
    "A = QQ [x,y,z]\n",
    "S =[x^2 + y^2 - z^2,  x - 2*y^2 - 3,  z + x -y -3]\n",
    "J = A*S\n",
    "print(J.variety(QQ))\n",
    "print(J.variety(RR))\n",
    "print(J.variety(QQbar))"
   ]
  },
  {
   "attachments": {
    "image.png": {
     "image/png": "[encoded data removed]"
    }
   },
   "cell_type": "markdown",
   "metadata": {},
   "source": [
    "2) Вычислите радикал идеала\n",
    "\n",
    "![image.png](attachment:image.png)\n",
    "\n",
    "Совпадают ли идеалы J и √J? Совпадают ли многообразия, порожденные J и √J?"
   ]
  },
  {
   "cell_type": "code",
   "execution_count": 27,
   "metadata": {},
   "outputs": [
    {
     "name": "stdout",
     "output_type": "stream",
     "text": [
      "Ideal (2*z + 1, 4*y^2 - 4*y + 9) of Multivariate Polynomial Ring in x, y, z over Rational Field\n",
      "Ideal (2*z + 1, 4*y^2 - 4*y + 9) of Multivariate Polynomial Ring in x, y, z over Rational Field\n",
      "[{z: -0.50000000000000000?, y: 0.50000000000000000? - 1.414213562373095?*I, x: -0.50000000000000000? + 0.7071067811865475?*I}, {z: -0.50000000000000000?, y: 0.50000000000000000? + 1.414213562373095?*I, x: -0.50000000000000000? - 0.7071067811865475?*I}]\n",
      "[{z: -0.50000000000000000?, y: 0.50000000000000000? - 1.414213562373095?*I, x: -0.50000000000000000? + 0.7071067811865475?*I}, {z: -0.50000000000000000?, y: 0.50000000000000000? + 1.414213562373095?*I, x: -0.50000000000000000? - 0.7071067811865475?*I}]\n"
     ]
    },
    {
     "data": {
      "text/plain": [
       "True"
      ]
     },
     "execution_count": 27,
     "metadata": {},
     "output_type": "execute_result"
    }
   ],
   "source": [
    "A = QQ [x,y,z]\n",
    "J = A*[(x + y)^2 + (x - z)^2 + 1, (x + y)^4 + (x - z)^4 + z, 2*x + y - z]\n",
    "J2 = J.radical()\n",
    "print(J.elimination_ideal([A(x)]))\n",
    "print(J2.elimination_ideal([A(x)]))\n",
    "print(J.variety(QQbar))\n",
    "print(J2.variety(QQbar))\n",
    "J.variety(QQbar)==J2.variety(QQbar)"
   ]
  },
  {
   "cell_type": "markdown",
   "metadata": {},
   "source": [
    "3) На плоскости R^2 найдите координаты точек пересечения кривой\n",
    "\n",
    "x^3 − y^3 = 2*x*y\n",
    "\n",
    "и окружности x^2 + y^2 = 1. Ответ выразите в радикалах."
   ]
  },
  {
   "cell_type": "code",
   "execution_count": 106,
   "metadata": {},
   "outputs": [
    {
     "name": "stdout",
     "output_type": "stream",
     "text": [
      "[{y: -0.9203685839444056?, x: -0.3910520038155662?}, {y: 0.3910520038155663?, x: 0.9203685839444056?}, {y: 0.4497874598272411?, x: -0.893135622949930?}, {y: 0.893135622949930?, x: -0.4497874598272411?}, {y: -1.406803251324166? - 1.216180655962034?*I, x: 1.406803251324166? - 1.216180655962034?*I}, {y: -1.406803251324166? + 1.216180655962034?*I, x: 1.406803251324166? + 1.216180655962034?*I}]\n",
      "-0.3910520038155662? -0.9203685839444056?\n",
      "0.9203685839444056? 0.3910520038155663?\n",
      "-0.893135622949930? 0.4497874598272411?\n",
      "-0.4497874598272411? 0.893135622949930?\n",
      "1.406803251324166? - 1.216180655962034?*I -1.406803251324166? - 1.216180655962034?*I\n",
      "1.406803251324166? + 1.216180655962034?*I -1.406803251324166? + 1.216180655962034?*I\n"
     ]
    }
   ],
   "source": [
    "A = QQ[x,y]\n",
    "S = [x^3 - y^3 - 2*x*y, x^2 + y^2 - 1]\n",
    "J = A*S\n",
    "T = J.variety(QQbar)\n",
    "print(T)\n",
    "for i in range (len(T)):\n",
    "    print(T[i]['x'].radical_expression(), T[i]['y'].radical_expression())"
   ]
  },
  {
   "cell_type": "markdown",
   "metadata": {},
   "source": [
    "4) Составьте уравнение, которому удовлетворяют z-координаты точек многообразия\n",
    "\n",
    "x^2 + y^2 = z^3, x − 2*y^2 = 3, z + x − y = 3.\n",
    "\n",
    "Является ли это уравнение простым в Q[z]?"
   ]
  },
  {
   "cell_type": "code",
   "execution_count": 107,
   "metadata": {},
   "outputs": [
    {
     "name": "stdout",
     "output_type": "stream",
     "text": [
      "[{z: -0.3911361406681769? - 2.176429326821263?*I, y: -0.5795976041937987? - 0.655868976663787?*I, x: 2.811538536474378? + 1.520560350157476?*I}, {z: -0.3911361406681769? + 2.176429326821263?*I, y: -0.5795976041937987? + 0.655868976663787?*I, x: 2.811538536474378? - 1.520560350157476?*I}, {z: -0.000453858267794938? - 3.353031925139944?*I, y: 1.182849384122951? + 0.8985994904987820?*I, x: 4.183303242390746? + 4.251631415638726?*I}, {z: -0.000453858267794938? + 3.353031925139944?*I, y: 1.182849384122951? - 0.8985994904987820?*I, x: 4.183303242390746? - 4.251631415638726?*I}, {z: 1.391589998935972? - 0.3314252645882773?*I, y: 0.1467482200708482? - 0.8024686470676122?*I, x: 1.755158221134877? - 0.4710433824793349?*I}, {z: 1.391589998935972? + 0.3314252645882773?*I, y: 0.1467482200708482? + 0.8024686470676122?*I, x: 1.755158221134877? + 0.4710433824793349?*I}]\n",
      "6\n",
      "-0.3911361406681769? - 2.176429326821263?*I\n",
      "-0.3911361406681769? + 2.176429326821263?*I\n",
      "-0.000453858267794938? - 3.353031925139944?*I\n",
      "-0.000453858267794938? + 3.353031925139944?*I\n",
      "1.391589998935972? - 0.3314252645882773?*I\n",
      "1.391589998935972? + 0.3314252645882773?*I\n"
     ]
    }
   ],
   "source": [
    "A = QQ[x,y,z]\n",
    "S = [x^2 + y^2 - z^3, x - 2*y^2 - 3, z + x - y - 3]\n",
    "J = A*S\n",
    "T = J.variety(QQbar)\n",
    "print(T)\n",
    "print(len(T))\n",
    "for i in range (len(T)):\n",
    "    print(T[i]['z'])"
   ]
  },
  {
   "cell_type": "markdown",
   "metadata": {},
   "source": [
    "(z - (-0.3911361406681769? - 2.176429326821263?*I))*(z - (-0.3911361406681769? + 2.176429326821263?*I)*(z - (-0.000453858267794938? - 3.353031925139944?*I)*(z - (-0.000453858267794938? + 3.353031925139944?*I))*(z - (1.391589998935972? - 0.3314252645882773?*I))*(z - (1.391589998935972? + 0.3314252645882773?*I))\n",
    "\n",
    "Уравнение относительно z, является простым."
   ]
  },
  {
   "cell_type": "markdown",
   "metadata": {},
   "source": [
    "5) Найдите уравнение проекции линии\n",
    "\n",
    "x^2 + y^2 + z^2 = 2, x^2 + z^2 = 1\n",
    "\n",
    "на плоскость xy"
   ]
  },
  {
   "cell_type": "code",
   "execution_count": 102,
   "metadata": {},
   "outputs": [
    {
     "ename": "ValueError",
     "evalue": "The dimension of the ideal is 1, but it should be 0",
     "output_type": "error",
     "traceback": [
      "\u001b[0;31m---------------------------------------------------------------------------\u001b[0m",
      "\u001b[0;31mValueError\u001b[0m                                Traceback (most recent call last)",
      "\u001b[0;32m<ipython-input-102-a615a2bf073d>\u001b[0m in \u001b[0;36m<module>\u001b[0;34m\u001b[0m\n\u001b[1;32m      3\u001b[0m \u001b[0mS\u001b[0m \u001b[0;34m=\u001b[0m \u001b[0;34m[\u001b[0m\u001b[0mx\u001b[0m\u001b[0;34m**\u001b[0m\u001b[0mInteger\u001b[0m\u001b[0;34m(\u001b[0m\u001b[0;36m2\u001b[0m\u001b[0;34m)\u001b[0m \u001b[0;34m+\u001b[0m \u001b[0my\u001b[0m\u001b[0;34m**\u001b[0m\u001b[0mInteger\u001b[0m\u001b[0;34m(\u001b[0m\u001b[0;36m2\u001b[0m\u001b[0;34m)\u001b[0m \u001b[0;34m+\u001b[0m \u001b[0mz\u001b[0m\u001b[0;34m**\u001b[0m\u001b[0mInteger\u001b[0m\u001b[0;34m(\u001b[0m\u001b[0;36m2\u001b[0m\u001b[0;34m)\u001b[0m \u001b[0;34m-\u001b[0m \u001b[0mInteger\u001b[0m\u001b[0;34m(\u001b[0m\u001b[0;36m2\u001b[0m\u001b[0;34m)\u001b[0m\u001b[0;34m,\u001b[0m \u001b[0mx\u001b[0m\u001b[0;34m**\u001b[0m\u001b[0mInteger\u001b[0m\u001b[0;34m(\u001b[0m\u001b[0;36m2\u001b[0m\u001b[0;34m)\u001b[0m \u001b[0;34m+\u001b[0m \u001b[0mz\u001b[0m\u001b[0;34m**\u001b[0m\u001b[0mInteger\u001b[0m\u001b[0;34m(\u001b[0m\u001b[0;36m2\u001b[0m\u001b[0;34m)\u001b[0m \u001b[0;34m-\u001b[0m \u001b[0mInteger\u001b[0m\u001b[0;34m(\u001b[0m\u001b[0;36m1\u001b[0m\u001b[0;34m)\u001b[0m\u001b[0;34m]\u001b[0m\u001b[0;34m\u001b[0m\u001b[0;34m\u001b[0m\u001b[0m\n\u001b[1;32m      4\u001b[0m \u001b[0mJ\u001b[0m \u001b[0;34m=\u001b[0m \u001b[0mA\u001b[0m\u001b[0;34m*\u001b[0m\u001b[0mS\u001b[0m\u001b[0;34m\u001b[0m\u001b[0;34m\u001b[0m\u001b[0m\n\u001b[0;32m----> 5\u001b[0;31m \u001b[0mT\u001b[0m \u001b[0;34m=\u001b[0m \u001b[0mJ\u001b[0m\u001b[0;34m.\u001b[0m\u001b[0mvariety\u001b[0m\u001b[0;34m(\u001b[0m\u001b[0mQQbar\u001b[0m\u001b[0;34m)\u001b[0m\u001b[0;34m\u001b[0m\u001b[0;34m\u001b[0m\u001b[0m\n\u001b[0m\u001b[1;32m      6\u001b[0m \u001b[0mprint\u001b[0m\u001b[0;34m(\u001b[0m\u001b[0mT\u001b[0m\u001b[0;34m)\u001b[0m\u001b[0;34m\u001b[0m\u001b[0;34m\u001b[0m\u001b[0m\n",
      "\u001b[0;32m/opt/sagemath-9.3/local/lib/python3.7/site-packages/sage/rings/polynomial/multi_polynomial_ideal.py\u001b[0m in \u001b[0;36m__call__\u001b[0;34m(self, *args, **kwds)\u001b[0m\n\u001b[1;32m    294\u001b[0m         \u001b[0;32mif\u001b[0m \u001b[0;32mnot\u001b[0m \u001b[0mR\u001b[0m\u001b[0;34m.\u001b[0m\u001b[0mbase_ring\u001b[0m\u001b[0;34m(\u001b[0m\u001b[0;34m)\u001b[0m\u001b[0;34m.\u001b[0m\u001b[0mis_field\u001b[0m\u001b[0;34m(\u001b[0m\u001b[0;34m)\u001b[0m\u001b[0;34m:\u001b[0m\u001b[0;34m\u001b[0m\u001b[0;34m\u001b[0m\u001b[0m\n\u001b[1;32m    295\u001b[0m             \u001b[0;32mraise\u001b[0m \u001b[0mValueError\u001b[0m\u001b[0;34m(\u001b[0m\u001b[0;34m\"Coefficient ring must be a field for function '%s'.\"\u001b[0m\u001b[0;34m%\u001b[0m\u001b[0;34m(\u001b[0m\u001b[0mself\u001b[0m\u001b[0;34m.\u001b[0m\u001b[0mf\u001b[0m\u001b[0;34m.\u001b[0m\u001b[0m__name__\u001b[0m\u001b[0;34m)\u001b[0m\u001b[0;34m)\u001b[0m\u001b[0;34m\u001b[0m\u001b[0;34m\u001b[0m\u001b[0m\n\u001b[0;32m--> 296\u001b[0;31m         \u001b[0;32mreturn\u001b[0m \u001b[0mself\u001b[0m\u001b[0;34m.\u001b[0m\u001b[0mf\u001b[0m\u001b[0;34m(\u001b[0m\u001b[0mself\u001b[0m\u001b[0;34m.\u001b[0m\u001b[0m_instance\u001b[0m\u001b[0;34m,\u001b[0m \u001b[0;34m*\u001b[0m\u001b[0margs\u001b[0m\u001b[0;34m,\u001b[0m \u001b[0;34m**\u001b[0m\u001b[0mkwds\u001b[0m\u001b[0;34m)\u001b[0m\u001b[0;34m\u001b[0m\u001b[0;34m\u001b[0m\u001b[0m\n\u001b[0m\u001b[1;32m    297\u001b[0m \u001b[0;34m\u001b[0m\u001b[0m\n\u001b[1;32m    298\u001b[0m \u001b[0mrequire_field\u001b[0m \u001b[0;34m=\u001b[0m \u001b[0mRequireField\u001b[0m\u001b[0;34m\u001b[0m\u001b[0;34m\u001b[0m\u001b[0m\n",
      "\u001b[0;32m/opt/sagemath-9.3/local/lib/python3.7/site-packages/sage/rings/polynomial/multi_polynomial_ideal.py\u001b[0m in \u001b[0;36mvariety\u001b[0;34m(self, ring)\u001b[0m\n\u001b[1;32m   2555\u001b[0m         \u001b[0md\u001b[0m \u001b[0;34m=\u001b[0m \u001b[0mself\u001b[0m\u001b[0;34m.\u001b[0m\u001b[0mdimension\u001b[0m\u001b[0;34m(\u001b[0m\u001b[0;34m)\u001b[0m\u001b[0;34m\u001b[0m\u001b[0;34m\u001b[0m\u001b[0m\n\u001b[1;32m   2556\u001b[0m         \u001b[0;32mif\u001b[0m \u001b[0md\u001b[0m \u001b[0;34m>\u001b[0m \u001b[0;36m0\u001b[0m\u001b[0;34m:\u001b[0m\u001b[0;34m\u001b[0m\u001b[0;34m\u001b[0m\u001b[0m\n\u001b[0;32m-> 2557\u001b[0;31m             \u001b[0;32mraise\u001b[0m \u001b[0mValueError\u001b[0m\u001b[0;34m(\u001b[0m\u001b[0;34m\"The dimension of the ideal is %s, but it should be 0\"\u001b[0m\u001b[0;34m%\u001b[0m\u001b[0md\u001b[0m\u001b[0;34m)\u001b[0m\u001b[0;34m\u001b[0m\u001b[0;34m\u001b[0m\u001b[0m\n\u001b[0m\u001b[1;32m   2558\u001b[0m         \u001b[0;32mif\u001b[0m \u001b[0md\u001b[0m \u001b[0;34m==\u001b[0m \u001b[0;34m-\u001b[0m\u001b[0;36m1\u001b[0m\u001b[0;34m:\u001b[0m\u001b[0;34m\u001b[0m\u001b[0;34m\u001b[0m\u001b[0m\n\u001b[1;32m   2559\u001b[0m             \u001b[0;32mreturn\u001b[0m \u001b[0;34m[\u001b[0m\u001b[0;34m]\u001b[0m\u001b[0;34m\u001b[0m\u001b[0;34m\u001b[0m\u001b[0m\n",
      "\u001b[0;31mValueError\u001b[0m: The dimension of the ideal is 1, but it should be 0"
     ]
    }
   ],
   "source": [
    "var(\"x,y,z\")\n",
    "A = QQ[x,y,z]\n",
    "S = [x^2 + y^2 + z^2 - 2, x^2 + z^2 - 1]\n",
    "J = A*S\n",
    "T = J.variety(QQbar)\n",
    "print(T)"
   ]
  },
  {
   "cell_type": "markdown",
   "metadata": {},
   "source": [
    "6) Определите размерность многообразия\n",
    "\n",
    "x^2 − y^2 + x*z − y*z = 0, x + y + z = 0, x = y.\n",
    "\n",
    "Многообразие размерности 1"
   ]
  },
  {
   "cell_type": "code",
   "execution_count": 8,
   "metadata": {},
   "outputs": [
    {
     "data": {
      "text/plain": [
       "[x + 1/2*z, y + 1/2*z]"
      ]
     },
     "execution_count": 8,
     "metadata": {},
     "output_type": "execute_result"
    }
   ],
   "source": [
    "var(\"x,y,z\")\n",
    "A = QQ[x,y,z]\n",
    "S = [x^2 - y^2 + x*z - y*z, x + y + z, x-y]\n",
    "J = A*S\n",
    "J.groebner_basis()"
   ]
  },
  {
   "cell_type": "markdown",
   "metadata": {},
   "source": [
    "7) Укажите, сколько точек пересечения может иметь парабола y = x^2 и\n",
    "прямая y = k*x + b при различных значениях k и b\n",
    "\n",
    "Ноль пересечений, одно пересечение или два пересечения."
   ]
  },
  {
   "cell_type": "code",
   "execution_count": 17,
   "metadata": {},
   "outputs": [
    {
     "data": {
      "text/plain": [
       "[-y^2 - 2*y - 9, x^2 - y, x*y + 3*x - 2*y, 2*x - y - 3]"
      ]
     },
     "execution_count": 17,
     "metadata": {},
     "output_type": "execute_result"
    }
   ],
   "source": [
    "var(\"x,y,z,k,b\")\n",
    "A = QQ[x,y,z, k,b]\n",
    "S = [y - x^2, y - k*x + b]\n",
    "J = A*S\n",
    "J.groebner_basis().subs(k=2, b=3)"
   ]
  },
  {
   "cell_type": "markdown",
   "metadata": {},
   "source": [
    "Опишите множество точек пересечения поверхности\n",
    "x^2 + y^2 = z^2\n",
    "и плоскости\n",
    "(x − 1) + (y − 1) = sqrt(2)(z − √2),\n",
    "касающейся этой поверхности в точке (1, 1, √2)"
   ]
  },
  {
   "cell_type": "code",
   "execution_count": null,
   "metadata": {},
   "outputs": [],
   "source": []
  }
 ],
 "metadata": {
  "kernelspec": {
   "display_name": "SageMath 9.3",
   "language": "sage",
   "name": "sagemath"
  },
  "language_info": {
   "codemirror_mode": {
    "name": "ipython",
    "version": 3
   },
   "file_extension": ".py",
   "mimetype": "text/x-python",
   "name": "python",
   "nbconvert_exporter": "python",
   "pygments_lexer": "ipython3",
   "version": "3.7.10"
  }
 },
 "nbformat": 4,
 "nbformat_minor": 4
}
